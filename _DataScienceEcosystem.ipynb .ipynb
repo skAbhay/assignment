{
 "cells": [
  {
   "cell_type": "markdown",
   "id": "42a46e76-dcff-4578-b200-167ee4cb9b46",
   "metadata": {},
   "source": [
    "# Data Science Tools and Ecosystem"
   ]
  },
  {
   "cell_type": "markdown",
   "id": "80e5d557-5f7c-469d-a911-fd4834a02fb6",
   "metadata": {
    "tags": []
   },
   "source": [
    " In this notebook, Data Science Tools and Ecosystem are summarized. "
   ]
  },
  {
   "cell_type": "markdown",
   "id": "9c2297fc-4e62-4b72-9612-929ff04a5689",
   "metadata": {
    "tags": []
   },
   "source": [
    "#### some of the popular language that data scientists use are:\n",
    "\n",
    "* JavaScript\n",
    "* Python\n",
    "* R\n",
    "* SQL"
   ]
  },
  {
   "cell_type": "markdown",
   "id": "db6c0f6d-1635-4a88-8181-4e00ddb8ebaa",
   "metadata": {
    "tags": []
   },
   "source": [
    "#### some of the commonly used libraries which are used by Data scientists are:\n",
    "\n",
    "* scrapy\n",
    "* numpy\n",
    "* scipy\n",
    "* pandas"
   ]
  },
  {
   "cell_type": "markdown",
   "id": "412d06ea-b652-4e0b-9000-32f7bbc1787c",
   "metadata": {},
   "source": [
    " |Data science|\n",
    " |--------------\n",
    " |jupyter notebook|\n",
    " |spyder|\n",
    " |Rstudio|"
   ]
  },
  {
   "cell_type": "markdown",
   "id": "71b09c4d-9c2f-4703-a5f2-a7c480f8339a",
   "metadata": {},
   "source": [
    "### Below are a few examples of evaluating arithmetic expressions in Python"
   ]
  },
  {
   "cell_type": "code",
   "execution_count": 7,
   "id": "287f5e07-f9b2-42e9-986d-16f17a6b9b2d",
   "metadata": {
    "tags": []
   },
   "outputs": [
    {
     "data": {
      "text/plain": [
       "17"
      ]
     },
     "execution_count": 7,
     "metadata": {},
     "output_type": "execute_result"
    }
   ],
   "source": [
    "# This a simple arithmetic expression to mutiply then add integers\n",
    "\n",
    "(3*4)+5"
   ]
  },
  {
   "cell_type": "code",
   "execution_count": 9,
   "id": "0199cde5-740c-46b9-8106-efae1b44500e",
   "metadata": {
    "tags": []
   },
   "outputs": [
    {
     "data": {
      "text/plain": [
       "3.3333333333333335"
      ]
     },
     "execution_count": 9,
     "metadata": {},
     "output_type": "execute_result"
    }
   ],
   "source": [
    "# This will convert 200 minutes to hours by diving by 60\n",
    "\n",
    "200/60"
   ]
  },
  {
   "cell_type": "markdown",
   "id": "d923e0ff-5c4a-43c8-9f46-cfedaa19d6df",
   "metadata": {},
   "source": [
    "### Objectives :\n",
    "> some of the commonly used Data science langauge\n",
    "*   SQL\n",
    " *   JAVA\n",
    " *    C\n",
    " * python\n",
    " * R"
   ]
  },
  {
   "cell_type": "markdown",
   "id": "e4fec4e3-7e74-405a-9baf-c7e0a79a01b0",
   "metadata": {},
   "source": [
    " ## Author\n",
    "    Abhay sk"
   ]
  },
  {
   "cell_type": "code",
   "execution_count": null,
   "id": "d5eda5c1-6d9d-4c06-851c-a78009c5ce94",
   "metadata": {},
   "outputs": [],
   "source": []
  }
 ],
 "metadata": {
  "kernelspec": {
   "display_name": "Python 3 (ipykernel)",
   "language": "python",
   "name": "python3"
  },
  "language_info": {
   "codemirror_mode": {
    "name": "ipython",
    "version": 3
   },
   "file_extension": ".py",
   "mimetype": "text/x-python",
   "name": "python",
   "nbconvert_exporter": "python",
   "pygments_lexer": "ipython3",
   "version": "3.11.3"
  }
 },
 "nbformat": 4,
 "nbformat_minor": 5
}
